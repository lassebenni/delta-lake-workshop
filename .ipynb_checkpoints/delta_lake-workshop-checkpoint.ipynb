{
 "cells": [
  {
   "cell_type": "markdown",
   "metadata": {},
   "source": [
    "# Initialize the SparkSession\n",
    "\n",
    "Run the cells below to get a SparkSession."
   ]
  },
  {
   "cell_type": "code",
   "execution_count": 2,
   "metadata": {},
   "outputs": [],
   "source": [
    "import findspark\n",
    "findspark.init()\n",
    "import pyspark"
   ]
  },
  {
   "cell_type": "code",
   "execution_count": 3,
   "metadata": {},
   "outputs": [],
   "source": [
    "spark = pyspark.sql.SparkSession.builder.appName(\"MyApp\") \\\n",
    "    .config(\"spark.jars.packages\", \"io.delta:delta-core_2.12:0.8.0\") \\\n",
    "    .config(\"spark.sql.extensions\", \"io.delta.sql.DeltaSparkSessionExtension\") \\\n",
    "    .config(\"spark.sql.catalog.spark_catalog\", \"org.apache.spark.sql.delta.catalog.DeltaCatalog\") \\\n",
    "    .getOrCreate()"
   ]
  },
  {
   "cell_type": "code",
   "execution_count": 4,
   "metadata": {},
   "outputs": [],
   "source": [
    "from delta.tables import *\n",
    "import pyspark.sql.functions as f"
   ]
  },
  {
   "cell_type": "markdown",
   "metadata": {},
   "source": [
    "# Store data in delta format\n",
    "\n",
    "The data we use is the COVID-19 daily report data from Johns Hopkins university. It's already download to `/home/jovyan/COVID-19/csse_covid_19_data/csse_covid_19_daily_reports/` as CSV files, with the filename formatted as the date in American format (mm-dd-yyyy). For now we will only load the April 2021 data.\n",
    "\n",
    "After loading the CSV data, you need to write it in the delta format. Use `/tmp/deltalake/` to avoid permission issues."
   ]
  },
  {
   "cell_type": "code",
   "execution_count": 5,
   "metadata": {},
   "outputs": [
    {
     "name": "stdout",
     "output_type": "stream",
     "text": [
      "+----+------+--------------------+-------------------+-------------------+---------+----------+---------+------+---------+------+--------------------+------------------+-------------------+\n",
      "|FIPS|Admin2|      Province_State|     Country_Region|        Last_Update|      Lat|     Long_|Confirmed|Deaths|Recovered|Active|        Combined_Key|     Incident_Rate|Case_Fatality_Ratio|\n",
      "+----+------+--------------------+-------------------+-------------------+---------+----------+---------+------+---------+------+--------------------+------------------+-------------------+\n",
      "|null|  null|                null|        Afghanistan|2021-04-04 04:20:49| 33.93911| 67.709953|    56595|  2496|    51802|  2297|         Afghanistan|145.38251193391469|  4.410283593957064|\n",
      "|null|  null|                null|            Albania|2021-04-04 04:20:49|  41.1533|   20.1683|   126183|  2256|    93173| 30754|             Albania|4384.7035930224465| 1.7878795083331351|\n",
      "|null|  null|                null|            Algeria|2021-04-04 04:20:49|  28.0339|    1.6596|   117524|  3102|    81813| 32609|             Algeria|268.00730828682913|  2.639460876076376|\n",
      "|null|  null|                null|            Andorra|2021-04-04 04:20:49|  42.5063|    1.5218|    12174|   117|    11428|   629|             Andorra|15756.163851679286| 0.9610645638245441|\n",
      "|null|  null|                null|             Angola|2021-04-04 04:20:49| -11.2027|   17.8739|    22579|   540|    20871|  1168|              Angola| 68.69961627526435|  2.391602816776651|\n",
      "|null|  null|                null|Antigua and Barbuda|2021-04-04 04:20:49|  17.0608|  -61.7964|     1170|    28|      882|   260| Antigua and Barbuda|1194.7553304468588|  2.393162393162393|\n",
      "|null|  null|                null|          Argentina|2021-04-04 04:20:49| -38.4161|  -63.6167|  2383537| 56106|  2130640|196791|           Argentina| 5273.804674272997|  2.353896750921005|\n",
      "|null|  null|                null|            Armenia|2021-04-04 04:20:49|  40.0691|   45.0382|   196044|  3575|   175401| 17068|             Armenia| 6615.879812394162| 1.8235702189304441|\n",
      "|null|  null|Australian Capita...|          Australia|2021-04-04 04:20:49| -35.4735|  149.0124|      123|     3|      120|     0|Australian Capita...| 28.73160476524177| 2.4390243902439024|\n",
      "|null|  null|     New South Wales|          Australia|2021-04-04 04:20:49| -33.8688|  151.2093|     5300|    54|        0|  5246|New South Wales, ...|  65.2870165065287| 1.0188679245283019|\n",
      "|null|  null|  Northern Territory|          Australia|2021-04-04 04:20:49| -12.4634|  130.8456|      112|     0|      106|     6|Northern Territor...|45.602605863192174|                0.0|\n",
      "|null|  null|          Queensland|          Australia|2021-04-04 04:20:49| -27.4698|  153.0251|     1489|     6|     1353|   130|Queensland, Austr...|29.107614113967358|0.40295500335795836|\n",
      "|null|  null|     South Australia|          Australia|2021-04-04 04:20:49| -34.9285|  138.6007|      659|     4|      642|    13|South Australia, ...| 37.51779106177057| 0.6069802731411229|\n",
      "|null|  null|            Tasmania|          Australia|2021-04-04 04:20:49| -42.8821|  147.3272|      234|    13|      221|     0| Tasmania, Australia| 43.69747899159664|  5.555555555555555|\n",
      "|null|  null|            Victoria|          Australia|2021-04-04 04:20:49| -37.8136|  144.9631|    20484|   820|    19663|     1| Victoria, Australia|308.96393610763363|  4.003124389767623|\n",
      "|null|  null|   Western Australia|          Australia|2021-04-04 04:20:49| -31.9505|  115.8605|      947|     9|      922|    16|Western Australia...| 35.99939177373983| 0.9503695881731784|\n",
      "|null|  null|                null|            Austria|2021-04-04 04:20:49|  47.5162|   14.5501|   556012|  9434|   509550| 37028|             Austria| 6173.521051696573| 1.6967259699430948|\n",
      "|null|  null|                null|         Azerbaijan|2021-04-04 04:20:49|  40.1431|   47.5769|   268174|  3648|   240870| 23656|          Azerbaijan|2644.9291978883884| 1.3603108429601676|\n",
      "|null|  null|                null|            Bahamas|2021-04-04 04:20:49|25.025885|-78.035889|     9171|   188|     8676|   307|             Bahamas| 2332.116120107413| 2.0499400283502345|\n",
      "|null|  null|                null|            Bahrain|2021-04-04 04:20:49|  26.0275|     50.55|   147770|   531|   137555|  9684|             Bahrain| 8684.266356680808|0.35934222101915136|\n",
      "+----+------+--------------------+-------------------+-------------------+---------+----------+---------+------+---------+------+--------------------+------------------+-------------------+\n",
      "only showing top 20 rows\n",
      "\n"
     ]
    }
   ],
   "source": [
    "df = spark.read.format(\"csv\").options(header='True', inferSchema='True', delimiter=',').load(\"/home/jovyan/COVID-19/csse_covid_19_data/csse_covid_19_daily_reports/04-*-2021.csv\")\n",
    "df.show()"
   ]
  },
  {
   "cell_type": "code",
   "execution_count": 7,
   "metadata": {},
   "outputs": [],
   "source": [
    "df.write.format(\"delta\").save(\"/tmp/deltalake/\")"
   ]
  },
  {
   "cell_type": "markdown",
   "metadata": {},
   "source": [
    "# Read data in delta format\n",
    "\n",
    "After storing the data in delta format you can now read it. Try showing the first few rows."
   ]
  },
  {
   "cell_type": "code",
   "execution_count": 5,
   "metadata": {},
   "outputs": [
    {
     "name": "stdout",
     "output_type": "stream",
     "text": [
      "+----+------+--------------+--------------+-------------------+--------+---------+---------+------+---------+------+------------+------------------+-------------------+\n",
      "|FIPS|Admin2|Province_State|Country_Region|        Last_Update|     Lat|    Long_|Confirmed|Deaths|Recovered|Active|Combined_Key|     Incident_Rate|Case_Fatality_Ratio|\n",
      "+----+------+--------------+--------------+-------------------+--------+---------+---------+------+---------+------+------------+------------------+-------------------+\n",
      "|null|  null|          null|   Afghanistan|2021-04-04 04:20:49|33.93911|67.709953|    56595|  2496|    51802|  2297| Afghanistan|145.38251193391469|  4.410283593957064|\n",
      "|null|  null|          null|       Albania|2021-04-04 04:20:49| 41.1533|  20.1683|   126183|  2256|    93173| 30754|     Albania|4384.7035930224465| 1.7878795083331351|\n",
      "|null|  null|          null|       Algeria|2021-04-04 04:20:49| 28.0339|   1.6596|   117524|  3102|    81813| 32609|     Algeria|268.00730828682913|  2.639460876076376|\n",
      "|null|  null|          null|       Andorra|2021-04-04 04:20:49| 42.5063|   1.5218|    12174|   117|    11428|   629|     Andorra|15756.163851679286| 0.9610645638245441|\n",
      "|null|  null|          null|        Angola|2021-04-04 04:20:49|-11.2027|  17.8739|    22579|   540|    20871|  1168|      Angola| 68.69961627526435|  2.391602816776651|\n",
      "+----+------+--------------+--------------+-------------------+--------+---------+---------+------+---------+------+------------+------------------+-------------------+\n",
      "only showing top 5 rows\n",
      "\n"
     ]
    }
   ],
   "source": [
    "df = spark.read.format(\"delta\").load(\"/tmp/deltalake/\")\n",
    "df.show(5)"
   ]
  },
  {
   "cell_type": "markdown",
   "metadata": {},
   "source": [
    "# Clean up the data\n",
    "\n",
    "We use the `FIPS`, `Admin2`, `Province_State`, `Country_Region` and `Last_Update` as the unique key of this dataset. For ease of use later on we want to clean up the nulls in `FIPS`, `Admin2` and `Province_State` column.\n",
    "\n",
    "Do this using DeltaTable class with the update method. Replace nulls for strings with an empty string (`''`) and for numbers with `0`.\n",
    "\n",
    "Hint: you can check for nulls with the `isNull()` method of `f.col()`.\n",
    "\n",
    "- [Documentation of DeltaTable](https://docs.delta.io/latest/api/python/index.html).\n",
    "- [Documentation of Spark SQL Functions](https://spark.apache.org/docs/latest/api/python/reference/pyspark.sql.html#functions)."
   ]
  },
  {
   "cell_type": "code",
   "execution_count": 22,
   "metadata": {},
   "outputs": [
    {
     "data": {
      "text/plain": [
       "[('FIPS', 'int'),\n",
       " ('Admin2', 'string'),\n",
       " ('Province_State', 'string'),\n",
       " ('Country_Region', 'string'),\n",
       " ('Last_Update', 'string'),\n",
       " ('Lat', 'double'),\n",
       " ('Long_', 'double'),\n",
       " ('Confirmed', 'int'),\n",
       " ('Deaths', 'int'),\n",
       " ('Recovered', 'int'),\n",
       " ('Active', 'int'),\n",
       " ('Combined_Key', 'string'),\n",
       " ('Incident_Rate', 'double'),\n",
       " ('Case_Fatality_Ratio', 'double')]"
      ]
     },
     "execution_count": 22,
     "metadata": {},
     "output_type": "execute_result"
    }
   ],
   "source": [
    "df.dtypes"
   ]
  },
  {
   "cell_type": "code",
   "execution_count": 6,
   "metadata": {},
   "outputs": [],
   "source": [
    "deltaTable = DeltaTable.forPath(spark, '/tmp/deltalake')\n",
    "\n",
    "deltaTable.update(f.col(\"FIPS\").isNull(), { \"FIPS\": \"0\" } ) \n",
    "deltaTable.update(f.col(\"Admin2\").isNull(), { \"Admin2\": \"''\" } ) \n",
    "deltaTable.update(f.col(\"Province_State\").isNull(), { \"Province_State\": \"''\" } )"
   ]
  },
  {
   "cell_type": "code",
   "execution_count": 10,
   "metadata": {},
   "outputs": [
    {
     "name": "stdout",
     "output_type": "stream",
     "text": [
      "+----+------+--------------+--------------+-------------------+--------+---------+---------+------+---------+------+------------+------------------+-------------------+\n",
      "|FIPS|Admin2|Province_State|Country_Region|        Last_Update|     Lat|    Long_|Confirmed|Deaths|Recovered|Active|Combined_Key|     Incident_Rate|Case_Fatality_Ratio|\n",
      "+----+------+--------------+--------------+-------------------+--------+---------+---------+------+---------+------+------------+------------------+-------------------+\n",
      "|   0|      |              |   Afghanistan|2021-04-04 04:20:49|33.93911|67.709953|    56595|  2496|    51802|  2297| Afghanistan|145.38251193391469|  4.410283593957064|\n",
      "|   0|      |              |       Albania|2021-04-04 04:20:49| 41.1533|  20.1683|   126183|  2256|    93173| 30754|     Albania|4384.7035930224465| 1.7878795083331351|\n",
      "|   0|      |              |       Algeria|2021-04-04 04:20:49| 28.0339|   1.6596|   117524|  3102|    81813| 32609|     Algeria|268.00730828682913|  2.639460876076376|\n",
      "|   0|      |              |       Andorra|2021-04-04 04:20:49| 42.5063|   1.5218|    12174|   117|    11428|   629|     Andorra|15756.163851679286| 0.9610645638245441|\n",
      "|   0|      |              |        Angola|2021-04-04 04:20:49|-11.2027|  17.8739|    22579|   540|    20871|  1168|      Angola| 68.69961627526435|  2.391602816776651|\n",
      "+----+------+--------------+--------------+-------------------+--------+---------+---------+------+---------+------+------------+------------------+-------------------+\n",
      "only showing top 5 rows\n",
      "\n"
     ]
    }
   ],
   "source": [
    "df.show(5)"
   ]
  },
  {
   "cell_type": "markdown",
   "metadata": {},
   "source": [
    "Delta Lake keeps a history of you data. You can check it out with the code below."
   ]
  },
  {
   "cell_type": "code",
   "execution_count": 25,
   "metadata": {},
   "outputs": [
    {
     "name": "stdout",
     "output_type": "stream",
     "text": [
      "+-------+-------------------+------+--------+---------+--------------------+----+--------+---------+-----------+--------------+-------------+--------------------+------------+\n",
      "|version|          timestamp|userId|userName|operation| operationParameters| job|notebook|clusterId|readVersion|isolationLevel|isBlindAppend|    operationMetrics|userMetadata|\n",
      "+-------+-------------------+------+--------+---------+--------------------+----+--------+---------+-----------+--------------+-------------+--------------------+------------+\n",
      "|      4|2021-04-08 17:58:52|  null|    null|    MERGE|[predicate -> (((...|null|    null|     null|          3|          null|        false|[numTargetRowsCop...|        null|\n",
      "|      3|2021-04-08 17:31:28|  null|    null|   UPDATE|[predicate -> isn...|null|    null|     null|          2|          null|        false|[numRemovedFiles ...|        null|\n",
      "|      2|2021-04-08 17:31:22|  null|    null|   UPDATE|[predicate -> isn...|null|    null|     null|          1|          null|        false|[numRemovedFiles ...|        null|\n",
      "|      1|2021-04-08 17:31:14|  null|    null|   UPDATE|[predicate -> isn...|null|    null|     null|          0|          null|        false|[numRemovedFiles ...|        null|\n",
      "|      0|2021-04-08 17:14:49|  null|    null|    WRITE|[mode -> ErrorIfE...|null|    null|     null|       null|          null|         true|[numFiles -> 2, n...|        null|\n",
      "+-------+-------------------+------+--------+---------+--------------------+----+--------+---------+-----------+--------------+-------------+--------------------+------------+\n",
      "\n"
     ]
    }
   ],
   "source": [
    "table_history_df = deltaTable.history() \n",
    "table_history_df.show()"
   ]
  },
  {
   "cell_type": "markdown",
   "metadata": {},
   "source": [
    "# Upsert new data\n",
    "\n",
    "The Confirmed cases for Flevoland in the Netherlands turned out to be different. We've received a new file with the fix, it's stored in `/home/jovyan/delta-lake-workshop/files/04-07-2021.csv`.\n",
    "\n",
    "- Clean the new data with the same rules as you cleaned the existing data in the deltalake (replace null with `''` or `0`).\n",
    "- Upsert the new data with a merge into the deltalake. You can find an example [here](https://docs.delta.io/latest/delta-update.html#upsert-into-a-table-using-merge). Remember the columns that make up the key."
   ]
  },
  {
   "cell_type": "code",
   "execution_count": 15,
   "metadata": {},
   "outputs": [
    {
     "name": "stdout",
     "output_type": "stream",
     "text": [
      "+----+------+--------------+--------------+-------------------+--------+---------+---------+------+---------+------+------------+------------------+-------------------+\n",
      "|FIPS|Admin2|Province_State|Country_Region|        Last_Update|     Lat|    Long_|Confirmed|Deaths|Recovered|Active|Combined_Key|     Incident_Rate|Case_Fatality_Ratio|\n",
      "+----+------+--------------+--------------+-------------------+--------+---------+---------+------+---------+------+------------+------------------+-------------------+\n",
      "|null|  null|          null|   Afghanistan|2021-04-08 04:21:13|33.93911|67.709953|    56873|  2512|    51940|  2421| Afghanistan| 146.0966446014229|  4.416858614808433|\n",
      "|null|  null|          null|       Albania|2021-04-08 04:21:13| 41.1533|  20.1683|   127192|  2291|    95600| 29301|     Albania| 4419.765098339009|  1.801213912824706|\n",
      "|null|  null|          null|       Algeria|2021-04-08 04:21:13| 28.0339|   1.6596|   118004|  3116|    82192| 32696|     Algeria| 269.1019230717044| 2.6405884546286567|\n",
      "|null|  null|          null|       Andorra|2021-04-08 04:21:13| 42.5063|   1.5218|    12363|   119|    11616|   628|     Andorra|16000.776548243059| 0.9625495429911833|\n",
      "|null|  null|          null|        Angola|2021-04-08 04:21:13|-11.2027|  17.8739|    23010|   547|    21545|   918|      Angola| 70.01099120837206| 2.3772272924815296|\n",
      "+----+------+--------------+--------------+-------------------+--------+---------+---------+------+---------+------+------------+------------------+-------------------+\n",
      "only showing top 5 rows\n",
      "\n"
     ]
    }
   ],
   "source": [
    "updates_df = spark.read.format(\"csv\").options(header='True', inferSchema='True', delimiter=',').load(\"/home/jovyan/delta-lake-workshop/files/04-07-2021.csv\")\n",
    "updates_df.show(5)"
   ]
  },
  {
   "cell_type": "code",
   "execution_count": 17,
   "metadata": {},
   "outputs": [
    {
     "name": "stdout",
     "output_type": "stream",
     "text": [
      "+----+------+--------------+--------------+-------------------+--------+---------+---------+------+---------+------+------------+------------------+-------------------+\n",
      "|FIPS|Admin2|Province_State|Country_Region|        Last_Update|     Lat|    Long_|Confirmed|Deaths|Recovered|Active|Combined_Key|     Incident_Rate|Case_Fatality_Ratio|\n",
      "+----+------+--------------+--------------+-------------------+--------+---------+---------+------+---------+------+------------+------------------+-------------------+\n",
      "|   0|      |              |   Afghanistan|2021-04-08 04:21:13|33.93911|67.709953|    56873|  2512|    51940|  2421| Afghanistan| 146.0966446014229|  4.416858614808433|\n",
      "|   0|      |              |       Albania|2021-04-08 04:21:13| 41.1533|  20.1683|   127192|  2291|    95600| 29301|     Albania| 4419.765098339009|  1.801213912824706|\n",
      "|   0|      |              |       Algeria|2021-04-08 04:21:13| 28.0339|   1.6596|   118004|  3116|    82192| 32696|     Algeria| 269.1019230717044| 2.6405884546286567|\n",
      "|   0|      |              |       Andorra|2021-04-08 04:21:13| 42.5063|   1.5218|    12363|   119|    11616|   628|     Andorra|16000.776548243059| 0.9625495429911833|\n",
      "|   0|      |              |        Angola|2021-04-08 04:21:13|-11.2027|  17.8739|    23010|   547|    21545|   918|      Angola| 70.01099120837206| 2.3772272924815296|\n",
      "+----+------+--------------+--------------+-------------------+--------+---------+---------+------+---------+------+------------+------------------+-------------------+\n",
      "only showing top 5 rows\n",
      "\n"
     ]
    }
   ],
   "source": [
    "updates_df = updates_df.withColumn('FIPS',\n",
    "    f.when(f.col('FIPS').isNull(),0).\n",
    "    otherwise(f.col('FIPS'))) \\\n",
    "    .withColumn('Admin2',\n",
    "    f.when(f.col('Admin2').isNull(),'').\n",
    "    otherwise(f.col('Admin2'))) \\\n",
    "    .withColumn('Province_State',\n",
    "    f.when(f.col('Province_State').isNull(),'').\n",
    "    otherwise(f.col('Province_State')))\n",
    "updates_df.show(5)"
   ]
  },
  {
   "cell_type": "code",
   "execution_count": 19,
   "metadata": {},
   "outputs": [],
   "source": [
    "deltaTable.alias(\"covid19\").merge(\n",
    "    updates_df.alias(\"updates\"),\n",
    "    \"covid19.FIPS = updates.FIPS AND \\\n",
    "    covid19.Admin2 = updates.Admin2 AND \\\n",
    "    covid19.Province_State = updates.Province_State AND \\\n",
    "    covid19.Country_Region = updates.Country_Region AND \\\n",
    "    covid19.Last_Update = updates.Last_Update\") \\\n",
    "  .whenMatchedUpdateAll() \\\n",
    "  .whenNotMatchedInsertAll() \\\n",
    "  .execute()"
   ]
  },
  {
   "cell_type": "markdown",
   "metadata": {},
   "source": [
    "# Time travel\n",
    "In a data warehouse (or lakehouse) you often want to be able to time travel, so you can see what the world looked like at a certain moment in time. This feature is very useful for data rollbacks, auditing, and reproducing reports and analytics at any point in time.\n",
    "\n",
    "Since history is kept, this feature is supported out of the box. You can find examples on how to access the history [here](https://docs.delta.io/latest/delta-batch.html#query-an-older-snapshot-of-a-table-time-travel)."
   ]
  },
  {
   "cell_type": "code",
   "execution_count": 27,
   "metadata": {},
   "outputs": [
    {
     "name": "stdout",
     "output_type": "stream",
     "text": [
      "+----+------+--------------+--------------+-------------------+---------+--------+---------+------+---------+------+--------------------+------------------+-------------------+\n",
      "|FIPS|Admin2|Province_State|Country_Region|        Last_Update|      Lat|   Long_|Confirmed|Deaths|Recovered|Active|        Combined_Key|     Incident_Rate|Case_Fatality_Ratio|\n",
      "+----+------+--------------+--------------+-------------------+---------+--------+---------+------+---------+------+--------------------+------------------+-------------------+\n",
      "|   0|      |     Flevoland|   Netherlands|2021-04-02 04:20:36|52.550383|5.515162|    29289|   226|        0| 29063|Flevoland, Nether...|6923.7697419277065| 0.7716207449895865|\n",
      "|   0|      |     Flevoland|   Netherlands|2021-04-03 04:20:44|52.550383|5.515162|    29415|   226|        0| 29189|Flevoland, Nether...| 6953.555497244818| 0.7683154852966174|\n",
      "|   0|      |     Flevoland|   Netherlands|2021-04-04 04:20:49|52.550383|5.515162|    29554|   226|        0| 29328|Flevoland, Nether...|6986.4143860470285| 0.7647019016038438|\n",
      "|   0|      |     Flevoland|   Netherlands|2021-04-05 04:20:35|52.550383|5.515162|    29688|   226|        0| 29462|Flevoland, Nether...|7018.0913004318945| 0.7612503368364322|\n",
      "|   0|      |     Flevoland|   Netherlands|2021-04-06 04:20:32|52.550383|5.515162|    29786|   226|        0| 29560|Flevoland, Nether...| 7041.257999011869| 0.7587457194655207|\n",
      "|   0|      |     Flevoland|   Netherlands|2021-04-07 04:20:53|52.550383|5.515162|    29921|   226|        0| 29695|Flevoland, Nether...|7073.1713082802025| 0.7553223488519769|\n",
      "|   0|      |     Flevoland|   Netherlands|2021-04-08 04:21:13|52.550383|5.515162|    30056|   226|        0| 29830|Flevoland, Nether...| 7105.084617548538| 0.7519297311684855|\n",
      "+----+------+--------------+--------------+-------------------+---------+--------+---------+------+---------+------+--------------------+------------------+-------------------+\n",
      "\n"
     ]
    }
   ],
   "source": [
    "pre_merge_df = spark.read.format(\"delta\").option(\"versionAsOf\", 3).load(\"/tmp/deltalake/\")\n",
    "pre_merge_df.filter(pre_merge_df[\"Province_State\"]=='Flevoland').orderBy(pre_merge_df['Last_Update']).show()"
   ]
  },
  {
   "cell_type": "code",
   "execution_count": 28,
   "metadata": {},
   "outputs": [
    {
     "name": "stdout",
     "output_type": "stream",
     "text": [
      "+----+------+--------------+--------------+-------------------+---------+--------+---------+------+---------+------+--------------------+------------------+-------------------+\n",
      "|FIPS|Admin2|Province_State|Country_Region|        Last_Update|      Lat|   Long_|Confirmed|Deaths|Recovered|Active|        Combined_Key|     Incident_Rate|Case_Fatality_Ratio|\n",
      "+----+------+--------------+--------------+-------------------+---------+--------+---------+------+---------+------+--------------------+------------------+-------------------+\n",
      "|   0|      |     Flevoland|   Netherlands|2021-04-02 04:20:36|52.550383|5.515162|    29289|   226|        0| 29063|Flevoland, Nether...|6923.7697419277065| 0.7716207449895865|\n",
      "|   0|      |     Flevoland|   Netherlands|2021-04-03 04:20:44|52.550383|5.515162|    29415|   226|        0| 29189|Flevoland, Nether...| 6953.555497244818| 0.7683154852966174|\n",
      "|   0|      |     Flevoland|   Netherlands|2021-04-04 04:20:49|52.550383|5.515162|    29554|   226|        0| 29328|Flevoland, Nether...|6986.4143860470285| 0.7647019016038438|\n",
      "|   0|      |     Flevoland|   Netherlands|2021-04-05 04:20:35|52.550383|5.515162|    29688|   226|        0| 29462|Flevoland, Nether...|7018.0913004318945| 0.7612503368364322|\n",
      "|   0|      |     Flevoland|   Netherlands|2021-04-06 04:20:32|52.550383|5.515162|    29786|   226|        0| 29560|Flevoland, Nether...| 7041.257999011869| 0.7587457194655207|\n",
      "|   0|      |     Flevoland|   Netherlands|2021-04-07 04:20:53|52.550383|5.515162|    29921|   226|        0| 29695|Flevoland, Nether...|7073.1713082802025| 0.7553223488519769|\n",
      "|   0|      |     Flevoland|   Netherlands|2021-04-08 04:21:13|52.550383|5.515162|    29056|   226|        0| 29830|Flevoland, Nether...| 7105.084617548538| 0.7519297311684855|\n",
      "+----+------+--------------+--------------+-------------------+---------+--------+---------+------+---------+------+--------------------+------------------+-------------------+\n",
      "\n"
     ]
    }
   ],
   "source": [
    "df.filter(df[\"Province_State\"]=='Flevoland').orderBy(df['Last_Update']).show()"
   ]
  },
  {
   "cell_type": "markdown",
   "metadata": {},
   "source": [
    "# Advanced Delta Lake: schema updates\n",
    "\n",
    "We didn't think you would get here already, but if you're up for it you can take it one step further.\n",
    "\n",
    "Remember that we only put April 2021 in our delta lake? The reason for this was that the data set has had quite a bit of schema drift in the last 1+ year. Delta Lake can deal with this, either manually (meh) or automatically (yay). Check out the examples [here](https://docs.delta.io/latest/delta-batch.html#update-table-schema).\n",
    "\n",
    "We haven't tried this feature yet, so we're curious what your solution is."
   ]
  },
  {
   "cell_type": "code",
   "execution_count": null,
   "metadata": {},
   "outputs": [],
   "source": []
  }
 ],
 "metadata": {
  "kernelspec": {
   "display_name": "Python 3",
   "language": "python",
   "name": "python3"
  },
  "language_info": {
   "codemirror_mode": {
    "name": "ipython",
    "version": 3
   },
   "file_extension": ".py",
   "mimetype": "text/x-python",
   "name": "python",
   "nbconvert_exporter": "python",
   "pygments_lexer": "ipython3",
   "version": "3.7.10"
  }
 },
 "nbformat": 4,
 "nbformat_minor": 4
}
