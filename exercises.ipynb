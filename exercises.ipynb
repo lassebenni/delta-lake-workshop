{
 "cells": [
  {
   "cell_type": "markdown",
   "metadata": {},
   "source": [
    "# Initialize the SparkSession\n",
    "\n",
    "Run the cells below to get a SparkSession."
   ]
  },
  {
   "cell_type": "code",
   "execution_count": null,
   "metadata": {},
   "outputs": [],
   "source": [
    "import findspark\n",
    "findspark.init()\n",
    "import pyspark"
   ]
  },
  {
   "cell_type": "code",
   "execution_count": null,
   "metadata": {},
   "outputs": [],
   "source": [
    "spark = pyspark.sql.SparkSession.builder.appName(\"MyApp\") \\\n",
    "    .config(\"spark.jars.packages\", \"io.delta:delta-core_2.12:0.8.0\") \\\n",
    "    .config(\"spark.sql.extensions\", \"io.delta.sql.DeltaSparkSessionExtension\") \\\n",
    "    .config(\"spark.sql.catalog.spark_catalog\", \"org.apache.spark.sql.delta.catalog.DeltaCatalog\") \\\n",
    "    .getOrCreate()"
   ]
  },
  {
   "cell_type": "code",
   "execution_count": null,
   "metadata": {},
   "outputs": [],
   "source": [
    "from delta.tables import *\n",
    "import pyspark.sql.functions as f"
   ]
  },
  {
   "cell_type": "markdown",
   "metadata": {},
   "source": [
    "# Store data in delta format\n",
    "\n",
    "The data we use is the COVID-19 daily report data from Johns Hopkins university. It's already download to `/home/jovyan/COVID-19/csse_covid_19_data/csse_covid_19_daily_reports/` as CSV files, with the filename formatted as the date in American format (mm-dd-yyyy). For now we will only load the April 2021 data.\n",
    "\n",
    "After loading the CSV data, you need to write it in the delta format. Use `/tmp/deltalake/` to avoid permission issues.\n",
    "\n",
    "- [PySpark cheat sheet](https://s3.amazonaws.com/assets.datacamp.com/blog_assets/PySpark_SQL_Cheat_Sheet_Python.pdf)\n",
    "- [Spark SQL documentation](https://spark.apache.org/docs/latest/api/python/reference/index.html)"
   ]
  },
  {
   "cell_type": "code",
   "execution_count": null,
   "metadata": {},
   "outputs": [],
   "source": [
    "df = spark.read.format(\"csv\").options(header='True', inferSchema='True', delimiter=',').load(\"/home/jovyan/COVID-19/csse_covid_19_data/csse_covid_19_daily_reports/04-*-2021.csv\")\n",
    "df.show()"
   ]
  },
  {
   "cell_type": "code",
   "execution_count": null,
   "metadata": {},
   "outputs": [],
   "source": [
    "df.write.format(\"delta\").save(\"/tmp/deltalake/\")"
   ]
  },
  {
   "cell_type": "markdown",
   "metadata": {},
   "source": [
    "Delta lake writes parquet files to location on disk. Can you find those files?"
   ]
  },
  {
   "cell_type": "code",
   "execution_count": null,
   "metadata": {},
   "outputs": [],
   "source": []
  },
  {
   "cell_type": "markdown",
   "metadata": {},
   "source": [
    "# Read data in delta format\n",
    "\n",
    "After storing the data in delta format you can now read it. Try showing the first few rows."
   ]
  },
  {
   "cell_type": "code",
   "execution_count": null,
   "metadata": {},
   "outputs": [],
   "source": [
    "df = spark.read.format(\"delta\").load(\"/tmp/deltalake/\")\n",
    "df.show(5)"
   ]
  },
  {
   "cell_type": "markdown",
   "metadata": {},
   "source": [
    "# Clean up the data\n",
    "\n",
    "We use the `FIPS`, `Admin2`, `Province_State`, `Country_Region` and `Last_Update` as the unique key of this dataset. For ease of use later on we want to clean up the nulls in `FIPS`, `Admin2` and `Province_State` column.\n",
    "\n",
    "Do this using DeltaTable class with the update method. Replace nulls for strings with an empty string (`''`) and for numbers with `0`.\n",
    "\n",
    "Hint: you can check for nulls with the `isNull()` method of `f.col()`.\n",
    "\n",
    "- [Documentation of DeltaTable](https://docs.delta.io/latest/api/python/index.html).\n",
    "- [Documentation of Spark SQL Functions](https://spark.apache.org/docs/latest/api/python/reference/pyspark.sql.html#functions)."
   ]
  },
  {
   "cell_type": "code",
   "execution_count": null,
   "metadata": {},
   "outputs": [],
   "source": [
    "df.dtypes"
   ]
  },
  {
   "cell_type": "code",
   "execution_count": null,
   "metadata": {},
   "outputs": [],
   "source": [
    "deltaTable = DeltaTable.forPath(spark, '/tmp/deltalake')\n",
    "\n",
    "deltaTable.update( .... (complete this code)"
   ]
  },
  {
   "cell_type": "code",
   "execution_count": null,
   "metadata": {},
   "outputs": [],
   "source": [
    "df.show(5)"
   ]
  },
  {
   "cell_type": "markdown",
   "metadata": {},
   "source": [
    "Delta Lake keeps a history of you data. You can see the metadata of this history with the `history()` method of DeltaTable. Try it out below to see the effects of your updates.\n",
    "\n",
    "You can revisit this after any changes to the delta table."
   ]
  },
  {
   "cell_type": "code",
   "execution_count": null,
   "metadata": {},
   "outputs": [],
   "source": []
  },
  {
   "cell_type": "markdown",
   "metadata": {},
   "source": [
    "# Upsert new data\n",
    "\n",
    "The Confirmed cases for Flevoland in the Netherlands turned out to be different. We've received a new file with the fix, it's stored in `/home/jovyan/delta-lake-workshop/files/04-07-2021.csv`.\n",
    "\n",
    "- Clean the new data with the same rules as you cleaned the existing data in the deltalake (replace null with `''` or `0`).\n",
    "- Upsert the new data with a merge into the deltalake. You can find an example [here](https://docs.delta.io/latest/delta-update.html#upsert-into-a-table-using-merge). Remember the columns that make up the key."
   ]
  },
  {
   "cell_type": "code",
   "execution_count": null,
   "metadata": {},
   "outputs": [],
   "source": []
  },
  {
   "cell_type": "code",
   "execution_count": null,
   "metadata": {},
   "outputs": [],
   "source": []
  },
  {
   "cell_type": "code",
   "execution_count": null,
   "metadata": {},
   "outputs": [],
   "source": []
  },
  {
   "cell_type": "markdown",
   "metadata": {},
   "source": [
    "# Time travel\n",
    "In a data warehouse (or lakehouse) you often want to be able to time travel, so you can see what the world looked like at a certain moment in time. This feature is very useful for data rollbacks, auditing, and reproducing reports and analytics at any point in time.\n",
    "\n",
    "Since history is kept, this feature is supported out of the box. You can find examples on how to access the history [here](https://docs.delta.io/latest/delta-batch.html#query-an-older-snapshot-of-a-table-time-travel)."
   ]
  },
  {
   "cell_type": "code",
   "execution_count": null,
   "metadata": {},
   "outputs": [],
   "source": []
  },
  {
   "cell_type": "code",
   "execution_count": null,
   "metadata": {},
   "outputs": [],
   "source": []
  },
  {
   "source": [
    "# Bonus: What other useful features can you come up with?\n",
    "Think about what else you can do with DeltaLake, experiment and show you code! Look at the inspiration below:"
   ],
   "cell_type": "markdown",
   "metadata": {}
  },
  {
   "cell_type": "markdown",
   "metadata": {},
   "source": [
    "# Advanced Delta Lake: schema updates\n",
    "\n",
    "We didn't think you would get here already, but if you're up for it you can take it one step further.\n",
    "\n",
    "Remember that we only put April 2021 in our delta lake? The reason for this was that the data set has had quite a bit of schema drift in the last 1+ year. Delta Lake can deal with this, either manually (meh) or automatically (yay). Check out the examples [here](https://docs.delta.io/latest/delta-batch.html#update-table-schema).\n",
    "\n",
    "We haven't tried this feature yet, so we're curious what your solution is."
   ]
  },
  {
   "cell_type": "code",
   "execution_count": null,
   "metadata": {},
   "outputs": [],
   "source": []
  }
 ],
 "metadata": {
  "kernelspec": {
   "display_name": "Python 3",
   "language": "python",
   "name": "python3"
  },
  "language_info": {
   "codemirror_mode": {
    "name": "ipython",
    "version": 3
   },
   "file_extension": ".py",
   "mimetype": "text/x-python",
   "name": "python",
   "nbconvert_exporter": "python",
   "pygments_lexer": "ipython3",
   "version": "3.7.10"
  }
 },
 "nbformat": 4,
 "nbformat_minor": 4
}